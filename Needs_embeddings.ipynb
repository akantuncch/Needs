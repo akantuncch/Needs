{
 "cells": [
  {
   "cell_type": "code",
   "execution_count": 48,
   "metadata": {},
   "outputs": [],
   "source": [
    "# imports libs\n",
    "import openai\n",
    "from dotenv import dotenv_values\n",
    "# config .env and import api_key\n",
    "config = dotenv_values('.env')\n",
    "openai.api_key = config['OPENAI_API_KEY']"
   ]
  },
  {
   "cell_type": "code",
   "execution_count": 49,
   "metadata": {},
   "outputs": [],
   "source": [
    "# import more libs\n",
    "import pandas as pd\n",
    "import numpy as np\n",
    "from tenacity import retry, wait_random_exponential, stop_after_attempt\n",
    "import pickle\n",
    "import tiktoken"
   ]
  },
  {
   "cell_type": "code",
   "execution_count": 78,
   "metadata": {},
   "outputs": [],
   "source": [
    "# locate filepath, import test data\n",
    "dataset_path = \"./source_data/Problem_Intake_CurrentVers_TEST.csv\"\n",
    "df = pd.read_csv(dataset_path)"
   ]
  },
  {
   "cell_type": "code",
   "execution_count": 79,
   "metadata": {},
   "outputs": [
    {
     "data": {
      "text/html": [
       "<div>\n",
       "<style scoped>\n",
       "    .dataframe tbody tr th:only-of-type {\n",
       "        vertical-align: middle;\n",
       "    }\n",
       "\n",
       "    .dataframe tbody tr th {\n",
       "        vertical-align: top;\n",
       "    }\n",
       "\n",
       "    .dataframe thead th {\n",
       "        text-align: right;\n",
       "    }\n",
       "</style>\n",
       "<table border=\"1\" class=\"dataframe\">\n",
       "  <thead>\n",
       "    <tr style=\"text-align: right;\">\n",
       "      <th></th>\n",
       "      <th>date</th>\n",
       "      <th>rank</th>\n",
       "      <th>need</th>\n",
       "      <th>dept</th>\n",
       "      <th>contact</th>\n",
       "    </tr>\n",
       "  </thead>\n",
       "  <tbody>\n",
       "    <tr>\n",
       "      <th>0</th>\n",
       "      <td>2019/08/16</td>\n",
       "      <td>H</td>\n",
       "      <td>A way to address lack of “buy in\" in any numbe...</td>\n",
       "      <td>Obstetrics and Gynecology - Minimally Invasive...</td>\n",
       "      <td>Remington Stokes</td>\n",
       "    </tr>\n",
       "    <tr>\n",
       "      <th>1</th>\n",
       "      <td>2019/08/16</td>\n",
       "      <td>H</td>\n",
       "      <td>A way to address dyspareunia in women with hig...</td>\n",
       "      <td>Obstetrics and Gynecology - Minimally Invasive...</td>\n",
       "      <td>Otto Waters</td>\n",
       "    </tr>\n",
       "    <tr>\n",
       "      <th>2</th>\n",
       "      <td>2019/08/16</td>\n",
       "      <td>H</td>\n",
       "      <td>A way to address pain flare in patients with c...</td>\n",
       "      <td>Obstetrics and Gynecology - Minimally Invasive...</td>\n",
       "      <td>Grant Brooks</td>\n",
       "    </tr>\n",
       "    <tr>\n",
       "      <th>3</th>\n",
       "      <td>2019/08/16</td>\n",
       "      <td>L</td>\n",
       "      <td>A way to address ovarian cyst seen on ultrasou...</td>\n",
       "      <td>Obstetrics and Gynecology - Minimally Invasive...</td>\n",
       "      <td>Adeline Smith</td>\n",
       "    </tr>\n",
       "    <tr>\n",
       "      <th>4</th>\n",
       "      <td>2019/08/16</td>\n",
       "      <td>L</td>\n",
       "      <td>A way to address hx of an incorrect dx of “pro...</td>\n",
       "      <td>Obstetrics and Gynecology - Minimally Invasive...</td>\n",
       "      <td>Nicole Reyes</td>\n",
       "    </tr>\n",
       "  </tbody>\n",
       "</table>\n",
       "</div>"
      ],
      "text/plain": [
       "         date rank                                               need  \\\n",
       "0  2019/08/16    H  A way to address lack of “buy in\" in any numbe...   \n",
       "1  2019/08/16    H  A way to address dyspareunia in women with hig...   \n",
       "2  2019/08/16    H  A way to address pain flare in patients with c...   \n",
       "3  2019/08/16    L  A way to address ovarian cyst seen on ultrasou...   \n",
       "4  2019/08/16    L  A way to address hx of an incorrect dx of “pro...   \n",
       "\n",
       "                                                dept             contact  \n",
       "0  Obstetrics and Gynecology - Minimally Invasive...  Remington Stokes    \n",
       "1  Obstetrics and Gynecology - Minimally Invasive...       Otto Waters    \n",
       "2  Obstetrics and Gynecology - Minimally Invasive...      Grant Brooks    \n",
       "3  Obstetrics and Gynecology - Minimally Invasive...     Adeline Smith    \n",
       "4  Obstetrics and Gynecology - Minimally Invasive...      Nicole Reyes    "
      ]
     },
     "execution_count": 79,
     "metadata": {},
     "output_type": "execute_result"
    }
   ],
   "source": [
    "# look at imported df\n",
    "df.head(5)"
   ]
  },
  {
   "cell_type": "code",
   "execution_count": 82,
   "metadata": {},
   "outputs": [],
   "source": [
    "# sort df by most recent\n",
    "needs = df.sort_values(\"date\", ascending=False)"
   ]
  },
  {
   "cell_type": "code",
   "execution_count": 83,
   "metadata": {},
   "outputs": [],
   "source": [
    "# set enc var for OpenAI\n",
    "enc = tiktoken.encoding_for_model(\"text-embedding-ada-002\")"
   ]
  },
  {
   "cell_type": "code",
   "execution_count": 84,
   "metadata": {},
   "outputs": [
    {
     "data": {
      "text/plain": [
       "array(['A way to address A way to correctly diagnose initiating cause of Shortness of Breath in Pts admitted to ED with complex respiratory cardiovascular/respiratory histories that reduces unnecessary treatments/decreases average length of stay\\n in admitted to ED with complex respiratory cardiovascular/respiratory histories that reduces unnecessary treatments/decreases average length of stay',\n",
       "       'A way to address assess cause of vaginal discharge in patients with recurrent yeast/bv (bacterial vaginosis?) that reduces clinic cisits or unnecessary tx.',\n",
       "       'A way to address intro-op identify planes between bowel and other tissue in surgical patients that prevents bowel injury',\n",
       "       'A way to address eliminate instrument exchange in patients undergoing surgery that reduces operative time',\n",
       "       'A way to address identify nerve origin of pain in complex pelvic pain patients that targets therapy',\n",
       "       'A way to address decrease no shows in patients unable to make an appointment that decreases OR inefficiency',\n",
       "       'A way to address identify the primary cause of vaginal dryness (decreased estrogen, decreased arousal, etc)  in women with dryness during intercourse that improve sexual satisfaction',\n",
       "       'A way to address identify bowel injury intra-op in surgical patients  that prevents delayed bowel injury and prompts intraop repair',\n",
       "       'A way to address organize cords from surgical instruments in ORs that decreases time detangling cords',\n",
       "       'A way to address confirm bowel adhesions requiring colorectal surgery in patients with endo or other prior surgery that that improves preop planning',\n",
       "       'A way to address A way to identify easiest way to achieve orgasm  in women with decreased libido  that improves sexual satisfaction (clitoral vs vaginal)',\n",
       "       'A way to address precisely access distal renal arteries in patients with AAA/EVAR that allows renal artery stenting',\n",
       "       'A way to address prioritize inpatient orders to facilitate clinical care in ? that reduce patient wait times',\n",
       "       'A way to address repair/embolize endoleaks in patients with EVAR that can be done safely with high success rate',\n",
       "       'A way to address clean out chronic grunge in patients with stents  that that is safe and successful',\n",
       "       'A way to address stabilize percutaneous ablation probes in patients with liver & kidney tumors  that that is safe & inexpensive',\n",
       "       'A way to address dyspareunia in women with high tone pelvic floor that allows for easier vaginal penetration during intercourse',\n",
       "       'A way to address patients that don’t know when they’re “done” with their appointment in the clinic population that increases communication so patients don’t come out of room confused',\n",
       "       'A way to address charity care status in not visible in EPIC easily in MIGS  that makes pre-op scheduling/prep easier',\n",
       "       'A way to address mychart messages in patients who have pelvic pain and have many questions that no time to address by e-mail',\n",
       "       'A way to address genital atrophy in postmenopausal women that improves pain with sex',\n",
       "       'A way to address pain with deep penetration during intercourse in women that allows for more comfortable sex',\n",
       "       'A way to address recurrent vaginal infections (BN/yeast) in women that reduces infections',\n",
       "       'A way to address suicidal ideation in chronic pelvic pain population that connects patients to resources',\n",
       "       'A way to address interpersonal violence in transgender, LGBTQ populations that connects patients to resources',\n",
       "       'A way to address hx of an incorrect dx of “probable endometriosis” in referred patient that allows them to believe pelvic muscles might be responsible for their pain',\n",
       "       'A way to address ovarian cyst seen on ultrasound in the ED in chronic pelvic pain population that opens their minds to other sources of pain',\n",
       "       'A way to address pain flare in patients with chronic pelvic pain that improves coping and reduces phone calls and ER visits',\n",
       "       'A way to address lack of “buy in\" in any number of patients that opens their minds to physical therapy'],\n",
       "      dtype=object)"
      ]
     },
     "execution_count": 84,
     "metadata": {},
     "output_type": "execute_result"
    }
   ],
   "source": [
    "# pull need statements into array\n",
    "need_statements = needs[\"need\"].values"
   ]
  },
  {
   "cell_type": "code",
   "execution_count": 85,
   "metadata": {},
   "outputs": [],
   "source": [
    "# calc tokens from needs statements array\n",
    "total_tokens = sum([len(enc.encode(need)) for need in need_statements])"
   ]
  },
  {
   "cell_type": "code",
   "execution_count": 86,
   "metadata": {},
   "outputs": [
    {
     "name": "stdout",
     "output_type": "stream",
     "text": [
      "Estimated cost $0.000286\n"
     ]
    }
   ],
   "source": [
    "total_tokens\n",
    "# reference OpenAI docs for model price / 1k tokens\n",
    "cost = total_tokens * (.0004 / 1000)\n",
    "print(f\"Estimated cost ${cost:.6f}\")"
   ]
  },
  {
   "cell_type": "code",
   "execution_count": 87,
   "metadata": {},
   "outputs": [],
   "source": [
    "# decorator function to query more responsibly, from tenacity\n",
    "@retry(wait=wait_random_exponential(min=1, max=20), stop=stop_after_attempt(6))\n",
    "def get_embedding(text, model=\"text-embedding-ada-002\"):\n",
    "\n",
    "    # replace newlines, which can negatively affect performance\n",
    "    text = text.replace(\"\\n\", \" \")\n",
    "    # call OpenAI embeddings API\n",
    "    return openai.Embedding.create(input=text, model=model)[\"data\"][0][\"embedding\"]"
   ]
  },
  {
   "cell_type": "code",
   "execution_count": 59,
   "metadata": {},
   "outputs": [],
   "source": [
    "# establsih a cache of embeddings to avoid recomputing\n",
    "# cache is a dict of tuples (text, model) -> embedding saved as a pickle file\n",
    "\n",
    "# set path to embedding cache\n",
    "embedding_cache_path = \"needs.pkl\"\n",
    "\n",
    "# load the cache if it exists, and save a copy to disk\n",
    "try:\n",
    "    embedding_cache = pd.read_pickle(embedding_cache_path)\n",
    "except FileNotFoundError:\n",
    "    embedding_cache = {}\n",
    "with open(embedding_cache_path ,\"wb\") as embedding_cache_file:\n",
    "    pickle.dump(embedding_cache, embedding_cache_file)\n",
    "\n",
    "# define a function to retrieve embeddings from the cache if present, and otherwise request via the API\n",
    "def embeddings_from_string(\n",
    "        string,\n",
    "        model=\"text-embedding-ada-002\",\n",
    "        embedding_cache=embedding_cache\n",
    "):\n",
    "    \"\"\"Return embedding of a given a string, using a cache to avoid recomputing.\"\"\"\n",
    "    if (string, model) not in embedding_cache.keys():\n",
    "        embedding_cache[(string, model)] = get_embedding(string, model)\n",
    "        print(f\"GOT EMBEDDING FROM OPEN AI FOR {string[:20]}\")\n",
    "        with open(embedding_cache_path, \"wb\") as embedding_cache_file:\n",
    "            pickle.dump(embedding_cache, embedding_cache_file)\n",
    "    return embedding_cache[(string, model)]\n"
   ]
  },
  {
   "cell_type": "code",
   "execution_count": 60,
   "metadata": {},
   "outputs": [],
   "source": [
    "# Retreieve embeddings for data, if cache present, otherwise query OpenAI \n",
    "need_embeddings = [embeddings_from_string(need, model=\"text-embedding-ada-002\") for need in need_statements]"
   ]
  },
  {
   "cell_type": "code",
   "execution_count": 66,
   "metadata": {},
   "outputs": [],
   "source": [
    "# convert df to python dict\n",
    "data = needs[[\"contact\", \"dept\", \"need\"]].to_dict(\"records\")"
   ]
  },
  {
   "cell_type": "code",
   "execution_count": 29,
   "metadata": {},
   "outputs": [],
   "source": [
    "# import nomic lib\n",
    "from nomic import atlas"
   ]
  },
  {
   "cell_type": "code",
   "execution_count": 69,
   "metadata": {},
   "outputs": [
    {
     "name": "stderr",
     "output_type": "stream",
     "text": [
      "\u001b[32m2023-05-13 15:07:47.136\u001b[0m | \u001b[1mINFO    \u001b[0m | \u001b[36mnomic.project\u001b[0m:\u001b[36m_create_project\u001b[0m:\u001b[36m965\u001b[0m - \u001b[1mCreating project `brief-disadvantage` in organization `akantunc`\u001b[0m\n",
      "\u001b[32m2023-05-13 15:07:48.474\u001b[0m | \u001b[1mINFO    \u001b[0m | \u001b[36mnomic.atlas\u001b[0m:\u001b[36mmap_embeddings\u001b[0m:\u001b[36m100\u001b[0m - \u001b[1mUploading embeddings to Atlas.\u001b[0m\n",
      "1it [00:00,  1.09it/s]\n",
      "\u001b[32m2023-05-13 15:07:49.398\u001b[0m | \u001b[1mINFO    \u001b[0m | \u001b[36mnomic.project\u001b[0m:\u001b[36m_add_data\u001b[0m:\u001b[36m1577\u001b[0m - \u001b[1mUpload succeeded.\u001b[0m\n",
      "\u001b[32m2023-05-13 15:07:49.399\u001b[0m | \u001b[1mINFO    \u001b[0m | \u001b[36mnomic.atlas\u001b[0m:\u001b[36mmap_embeddings\u001b[0m:\u001b[36m119\u001b[0m - \u001b[1mEmbedding upload succeeded.\u001b[0m\n",
      "\u001b[32m2023-05-13 15:07:50.685\u001b[0m | \u001b[1mINFO    \u001b[0m | \u001b[36mnomic.project\u001b[0m:\u001b[36mcreate_index\u001b[0m:\u001b[36m1282\u001b[0m - \u001b[1mCreated map `brief-disadvantage` in project `brief-disadvantage`: https://atlas.nomic.ai/map/307a544a-a17d-45d6-aba4-63ee2b5cbc6f/d973a64d-675e-40a8-be4a-85c036b898f6\u001b[0m\n",
      "\u001b[32m2023-05-13 15:07:50.686\u001b[0m | \u001b[1mINFO    \u001b[0m | \u001b[36mnomic.atlas\u001b[0m:\u001b[36mmap_embeddings\u001b[0m:\u001b[36m132\u001b[0m - \u001b[1mbrief-disadvantage: https://atlas.nomic.ai/map/307a544a-a17d-45d6-aba4-63ee2b5cbc6f/d973a64d-675e-40a8-be4a-85c036b898f6\u001b[0m\n"
     ]
    }
   ],
   "source": [
    "# send embeddings with Atlas\n",
    "project = atlas.map_embeddings(\n",
    "    embeddings=np.array(need_embeddings),\n",
    "    data=data\n",
    ")"
   ]
  },
  {
   "cell_type": "code",
   "execution_count": 70,
   "metadata": {},
   "outputs": [],
   "source": [
    "from openai.embeddings_utils import distances_from_embeddings, indices_of_nearest_neighbors_from_distances"
   ]
  },
  {
   "cell_type": "code",
   "execution_count": 73,
   "metadata": {},
   "outputs": [],
   "source": [
    "def print_recommendations_from_strings(\n",
    "    strings,\n",
    "    index_of_source_string,\n",
    "    k_nearest_neighbors=3,\n",
    "    model=\"text-embeddings-ada-002\"\n",
    "):\n",
    "    # Get all embeddings\n",
    "    embeddings = [embeddings_from_string(string) for string in strings]\n",
    "    # get embedding for our specific query string\n",
    "    query_embedding = embeddings[index_of_source_string]\n",
    "    # get distances between our embedding and all others\n",
    "    distances = distances_from_embeddings(query_embedding, embeddings)\n",
    "    # get indices of the knn\n",
    "    indices_of_nearest_neighbors = indices_of_nearest_neighbors_from_distances(distances)\n",
    "    # loop over indices to match\n",
    "    query_string = strings[index_of_source_string]\n",
    "    match_count = 0\n",
    "    for i in indices_of_nearest_neighbors:\n",
    "        if query_string == strings[i]:\n",
    "            continue\n",
    "        if match_count >= k_nearest_neighbors:\n",
    "            break\n",
    "        match_count =+ 1\n",
    "        print(f\"Found {match_count} closest match: \")\n",
    "        print(f\"Distances of: {distances[i]} \")\n",
    "        print(strings[i])"
   ]
  },
  {
   "cell_type": "code",
   "execution_count": 91,
   "metadata": {},
   "outputs": [
    {
     "name": "stdout",
     "output_type": "stream",
     "text": [
      "GOT EMBEDDING FROM OPEN AI FOR A way to address eli\n",
      "GOT EMBEDDING FROM OPEN AI FOR A way to address dec\n",
      "GOT EMBEDDING FROM OPEN AI FOR A way to address org\n",
      "Found 1 closest match: \n",
      "Distances of: 0.11504858089719694 \n",
      "A way to address organize cords from surgical instruments in ORs that decreases time detangling cords\n",
      "Found 1 closest match: \n",
      "Distances of: 0.12470794141311614 \n",
      "A way to address identify bowel injury intra-op in surgical patients  that prevents delayed bowel injury and prompts intraop repair\n",
      "Found 1 closest match: \n",
      "Distances of: 0.13082272492836688 \n",
      "A way to address intro-op identify planes between bowel and other tissue in surgical patients that prevents bowel injury\n",
      "Found 1 closest match: \n",
      "Distances of: 0.14036155036799824 \n",
      "A way to address prioritize inpatient orders to facilitate clinical care in ? that reduce patient wait times\n",
      "Found 1 closest match: \n",
      "Distances of: 0.14597601486879952 \n",
      "A way to address confirm bowel adhesions requiring colorectal surgery in patients with endo or other prior surgery that that improves preop planning\n",
      "Found 1 closest match: \n",
      "Distances of: 0.15168311032462323 \n",
      "A way to address clean out chronic grunge in patients with stents  that that is safe and successful\n",
      "Found 1 closest match: \n",
      "Distances of: 0.1542013246723386 \n",
      "A way to address stabilize percutaneous ablation probes in patients with liver & kidney tumors  that that is safe & inexpensive\n",
      "Found 1 closest match: \n",
      "Distances of: 0.16207528484070333 \n",
      "A way to address decrease no shows in patients unable to make an appointment that decreases OR inefficiency\n",
      "Found 1 closest match: \n",
      "Distances of: 0.16261758137677673 \n",
      "A way to address repair/embolize endoleaks in patients with EVAR that can be done safely with high success rate\n",
      "Found 1 closest match: \n",
      "Distances of: 0.17095949108821795 \n",
      "A way to address pain flare in patients with chronic pelvic pain that improves coping and reduces phone calls and ER visits\n",
      "Found 1 closest match: \n",
      "Distances of: 0.17114859363068835 \n",
      "A way to address patients that don’t know when they’re “done” with their appointment in the clinic population that increases communication so patients don’t come out of room confused\n",
      "Found 1 closest match: \n",
      "Distances of: 0.17354415826599623 \n",
      "A way to address precisely access distal renal arteries in patients with AAA/EVAR that allows renal artery stenting\n",
      "Found 1 closest match: \n",
      "Distances of: 0.18622661334836144 \n",
      "A way to address charity care status in not visible in EPIC easily in MIGS  that makes pre-op scheduling/prep easier\n",
      "Found 1 closest match: \n",
      "Distances of: 0.1885081497471548 \n",
      "A way to address assess cause of vaginal discharge in patients with recurrent yeast/bv (bacterial vaginosis?) that reduces clinic cisits or unnecessary tx.\n",
      "Found 1 closest match: \n",
      "Distances of: 0.1890056930457249 \n",
      "A way to address A way to correctly diagnose initiating cause of Shortness of Breath in Pts admitted to ED with complex respiratory cardiovascular/respiratory histories that reduces unnecessary treatments/decreases average length of stay\n",
      " in admitted to ED with complex respiratory cardiovascular/respiratory histories that reduces unnecessary treatments/decreases average length of stay\n",
      "Found 1 closest match: \n",
      "Distances of: 0.1941576117356142 \n",
      "A way to address dyspareunia in women with high tone pelvic floor that allows for easier vaginal penetration during intercourse\n",
      "Found 1 closest match: \n",
      "Distances of: 0.19549081648951905 \n",
      "A way to address lack of “buy in\" in any number of patients that opens their minds to physical therapy\n",
      "Found 1 closest match: \n",
      "Distances of: 0.1981967986357449 \n",
      "A way to address mychart messages in patients who have pelvic pain and have many questions that no time to address by e-mail\n",
      "Found 1 closest match: \n",
      "Distances of: 0.19832244674572364 \n",
      "A way to address recurrent vaginal infections (BN/yeast) in women that reduces infections\n",
      "Found 1 closest match: \n",
      "Distances of: 0.20083149572046544 \n",
      "A way to address suicidal ideation in chronic pelvic pain population that connects patients to resources\n",
      "Found 1 closest match: \n",
      "Distances of: 0.2008600877115193 \n",
      "A way to address pain with deep penetration during intercourse in women that allows for more comfortable sex\n",
      "Found 1 closest match: \n",
      "Distances of: 0.20424276776052763 \n",
      "A way to address identify nerve origin of pain in complex pelvic pain patients that targets therapy\n",
      "Found 1 closest match: \n",
      "Distances of: 0.20660027292034266 \n",
      "A way to address ovarian cyst seen on ultrasound in the ED in chronic pelvic pain population that opens their minds to other sources of pain\n",
      "Found 1 closest match: \n",
      "Distances of: 0.20704739860983945 \n",
      "A way to address genital atrophy in postmenopausal women that improves pain with sex\n",
      "Found 1 closest match: \n",
      "Distances of: 0.2077832374229689 \n",
      "A way to address A way to identify easiest way to achieve orgasm  in women with decreased libido  that improves sexual satisfaction (clitoral vs vaginal)\n",
      "Found 1 closest match: \n",
      "Distances of: 0.21467441778908714 \n",
      "A way to address interpersonal violence in transgender, LGBTQ populations that connects patients to resources\n",
      "Found 1 closest match: \n",
      "Distances of: 0.2241575121661652 \n",
      "A way to address hx of an incorrect dx of “probable endometriosis” in referred patient that allows them to believe pelvic muscles might be responsible for their pain\n",
      "Found 1 closest match: \n",
      "Distances of: 0.22784318878674648 \n",
      "A way to address identify the primary cause of vaginal dryness (decreased estrogen, decreased arousal, etc)  in women with dryness during intercourse that improve sexual satisfaction\n"
     ]
    }
   ],
   "source": [
    "print_recommendations_from_strings(need_statements, 3)"
   ]
  }
 ],
 "metadata": {
  "kernelspec": {
   "display_name": "base",
   "language": "python",
   "name": "python3"
  },
  "language_info": {
   "codemirror_mode": {
    "name": "ipython",
    "version": 3
   },
   "file_extension": ".py",
   "mimetype": "text/x-python",
   "name": "python",
   "nbconvert_exporter": "python",
   "pygments_lexer": "ipython3",
   "version": "3.9.12"
  },
  "orig_nbformat": 4
 },
 "nbformat": 4,
 "nbformat_minor": 2
}
